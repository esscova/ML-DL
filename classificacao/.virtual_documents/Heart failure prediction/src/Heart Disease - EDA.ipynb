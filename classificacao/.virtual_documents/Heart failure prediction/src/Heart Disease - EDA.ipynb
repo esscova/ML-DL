# packages
import pandas as pd
import numpy as np
import seaborn as sns
import matplotlib.pyplot as plt


# load dataset
dados = pd.read_csv('../data/heart.csv', sep=',', encoding='iso-8859-1')


# head data
dados.head()


# tail data
dados.tail()


# data shape
dados.shape


# data types
dados.dtypes


# info data
dados.info()


# check is null data
dados.isnull().sum()


# check is duplicated data
dados.duplicated().sum()


# analises estatisticas
dados.describe()


# moda
dados.mode()


# histograma para cada coluna numérica
dados.hist(figsize=(15,10));


# dispersão dos dados
dados.boxplot();


# variavel alvo
dados.HeartDisease.value_counts()


# variaveis previsoras
for k in dados.columns:
    if k != 'HeartDisease':
        print(dados[k].value_counts().sort_index())
        print('='*40)


# correlações com a variável alvo 'HeartDisease'
pd.get_dummies(dados, drop_first=True).corr()['HeartDisease'].sort_values(ascending=False)


# heatmap de correlacoes
plt.figure(figsize=(12, 10))
sns.heatmap(pd.get_dummies(dados, drop_first=True).corr(), annot=True, cmap='YlOrRd')
plt.title('Mapa de Calor das Correlações')
plt.show()


# heatmap de correlacoes
plt.figure(figsize=(12, 10))
sns.heatmap(pd.get_dummies(dados, drop_first=True).corr(), annot=True, cmap='YlOrRd')
plt.title('Mapa de Calor das Correlações')
plt.show()


# registros de pressao zeradas
dados.loc[dados.RestingBP == 0]


# excluindo registro
dados = dados.drop(449)


# check
dados.loc[dados.RestingBP == 0]


# registros de colesterol zerados
dados.loc[dados.Cholesterol == 0]


# substituindo valores por NaN 
dados.Cholesterol.replace(0, np.NaN, inplace=True)


#check NaN
dados.Cholesterol.isnull().sum()


# substituindo valores NaN pela media
dados.Cholesterol.fillna(dados.Cholesterol.mean(), inplace=True)


# check NaN
dados.Cholesterol.isnull().sum()


# check 0
dados.loc[dados.Cholesterol == 0]


# check data
dados.head()


# check NaN 
dados.isna().sum()


# check duplicates
dados.duplicated().sum()


# export data
dados.to_csv('../data/heart_clean.csv', sep=',', encoding='utf-8', index=False)
