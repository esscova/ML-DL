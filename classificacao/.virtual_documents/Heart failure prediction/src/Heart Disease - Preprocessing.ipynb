# packages
import pandas as pd
import numpy as np

from sklearn.preprocessing import LabelEncoder, OneHotEncoder, StandardScaler


# data load
df = pd.read_csv('../data/heart_clean.csv', sep=',', encoding='utf-8')


# data head
df.head()


# shape
df.shape


# data types
df.dtypes


# info
df.info()


# colunas categoricas
colunas_categoricas = df.select_dtypes(include='object')
colunas_categoricas.head()


# colunas não categóricas
colunas_nao_categoricas = df.select_dtypes(exclude='object')
colunas_nao_categoricas.head()


# instancias
label = LabelEncoder()
one_hot = OneHotEncoder(sparse_output=False)


# label encoder
colunas_com_label = colunas_categoricas.copy()
colunas_com_label[colunas_categoricas.columns] = colunas_com_label.apply(label.fit_transform)


# check
colunas_com_label.head(), colunas_com_label.shape


# one hot encoder
one_hot_encoder = one_hot.fit_transform(colunas_com_label)
colunas_com_one_hot = pd.DataFrame(one_hot_encoder, columns=one_hot.get_feature_names_out())


# check
colunas_com_one_hot.head(), colunas_com_one_hot.shape


# encoded
df_label = pd.concat([colunas_com_label, colunas_nao_categoricas], axis=1)
df_label.head()


# check types
df_label.dtypes


# one hot encoded
df_one_hot = pd.concat([colunas_com_one_hot, colunas_nao_categoricas], axis=1)
df_one_hot.head()


# check types
df_one_hot.dtypes


# alvo
alvo = df.HeartDisease.values
alvo


# sem encode
previsores = df.drop(['HeartDisease'], axis=1)
previsores.head()


# com label encoder
previsores_encoded = df_label.drop(['HeartDisease'], axis=1)
previsores_encoded.head()


# com one hot
previsores_OHE = df_one_hot.drop(['HeartDisease'], axis=1)
previsores_OHE.head()


# com escalonamento
previsores_escalonados = StandardScaler().fit_transform(previsores_OHE)
previsores_escalonados


# alvo
np.savetxt('../data/heart_target.csv', alvo, delimiter=',', fmt='%d')


# previsores
previsores.to_csv('../data/heart_predictor.csv', sep=',', index=False)


# previsores com label
previsores_encoded.to_csv('../data/heart_predictor_le.csv', sep=',', index=False)


# previsores com one hot
previsores_OHE.to_csv('../data/heart_predictor_ohe.csv', sep=',', index=False)


# previsores escalonados
pd.DataFrame(previsores_escalonados).to_csv('../data/heart_predictor_esc.csv', sep=',', index=False, header=previsores_OHE.columns)
