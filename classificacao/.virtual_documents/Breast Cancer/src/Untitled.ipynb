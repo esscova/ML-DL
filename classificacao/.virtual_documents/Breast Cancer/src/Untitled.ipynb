# libraries
import pandas as pd
import numpy as np
import seaborn as sns
import matplotlib.pyplot as plt


# load data
df = pd.read_csv('../data/cancer.csv', sep=',', encoding='utf-8')


# head data
df.head()


# tail data
df.tail()


# info data


df.info()


# NaN
df.isna().sum()


# duplicates
df.duplicated().any()


# types
df.dtypes


# shape
df.shape


# drop features
df2 = df.drop(['id', 'Unnamed: 32'], axis=1)
df2


# describe
df2.describe().T


# feat: diagnosis
df2.diagnosis.value_counts()


# plot
sns.countplot(x='diagnosis', data=df2);


# encoding 
df2.diagnosis.replace({'M': 1, 'B': 0}, inplace=True)
df2.diagnosis.value_counts()


# hist
df2.hist(figsize=(15,15));


# função geral para outliers
def count_outliers(df, column):
    Q1 = df[column].quantile(0.25)
    Q3 = df[column].quantile(0.75)
    IQR = Q3 - Q1
    lower_bound = Q1 - 1.5 * IQR
    upper_bound = Q3 + 1.5 * IQR
    outliers = df[(df[column] < lower_bound) | (df[column] > upper_bound)]
    return outliers


# outliers
for col in df2.select_dtypes(include=np.number).columns:
    print("{:<15} {:>6}".format(col, len(count_outliers(df2, col))))


# corr
df2.corr()['diagnosis'].sort_values(ascending=False)


# mapa de correlacoes
corr = df2.corr()
mask = np.triu(np.ones_like(corr, dtype=bool))  # mascara para o triangulo superior

plt.figure(figsize=(20, 12))
sns.heatmap(corr, mask=mask, linewidths=1, annot=True, fmt=".2f", cmap="coolwarm")
plt.show()
